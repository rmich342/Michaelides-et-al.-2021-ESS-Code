{
 "cells": [
  {
   "cell_type": "markdown",
   "metadata": {},
   "source": [
    "# Overview \n",
    "This notebook takes two repeat tracks in our study and samples Arctic DEM (2m) to estimate the topographic offset between repeats and investigate the corrlelation with our estimated elevation changes. In this notebook, we\n",
    "- sample Arctic DEM at each point along track for each flyover date\n",
    "- estimate the Arctic height difference  between the two dates for each point\n",
    "- look at the correlation between the difference in Arctic DEM heights and IS2-estimated height change\n",
    "- estimate the slope between the rpeat points based on the Arctic DEM heights\n",
    "- calculate an adjusted IS2 height change estimate that removes the topographic offsets estimated from Arctic DEM"
   ]
  },
  {
   "cell_type": "code",
   "execution_count": null,
   "metadata": {},
   "outputs": [],
   "source": [
    "# written by M.R. Siegfried\n",
    "# 3 December 2020\n",
    "#Last modified 15  July 2021 by Marnie Bryant\n",
    "# siegfried@mines.edu\n",
    "import pygmt\n",
    "import pandas as pd\n",
    "import numpy as np\n",
    "import matplotlib.pyplot as plt\n",
    "from osgeo import gdal\n",
    "import elevation\n",
    "import richdem as rd\n",
    "from pyproj import Proj, transform, Transformer"
   ]
  },
  {
   "cell_type": "markdown",
   "metadata": {},
   "source": [
    "# Read in and format data"
   ]
  },
  {
   "cell_type": "code",
   "execution_count": null,
   "metadata": {},
   "outputs": [],
   "source": [
    "# Set location of datafiles\n",
    "dem_1280 = 'track_1280_2l_dem_2m.tif' #Arctic DEM subsetted to track domain and projected into ESPG 4326\n",
    "dem_274 = 'track_274_1l_dem_2m.tif' #Arctic DEM subsetted to track domain and projected into ESPG 4326\n",
    "is2='repeat_dh_filtered_slope_05_final.csv' #repeat track data"
   ]
  },
  {
   "cell_type": "code",
   "execution_count": null,
   "metadata": {},
   "outputs": [],
   "source": [
    "# Read IS2 csv file and make new dataframes for each track\n",
    "is2data=pd.read_csv(is2)\n",
    "pt1=pd.DataFrame({'longitude': is2data['lon_1'], \n",
    "                  'latitude': is2data['lat_1']})\n",
    "\n",
    "pt2=pd.DataFrame({'longitude': is2data['lon_2'], \n",
    "                  'latitude': is2data['lat_2']})"
   ]
  },
  {
   "cell_type": "code",
   "execution_count": null,
   "metadata": {},
   "outputs": [],
   "source": [
    "#subset lines\n",
    "is2_1280 = is2data[(is2data['rgt']==1280) & (is2data['spot_n']==3)].copy()\n",
    "pt1_1280=pd.DataFrame({'longitude': is2_1280['lon_1'], \n",
    "                  'latitude': is2_1280['lat_1']})\n",
    "pt2_1280=pd.DataFrame({'longitude': is2_1280['lon_2'], \n",
    "                  'latitude': is2_1280['lat_2']})\n"
   ]
  },
  {
   "cell_type": "code",
   "execution_count": null,
   "metadata": {},
   "outputs": [],
   "source": [
    "is2_274 = is2data[(is2data['rgt']==274) & (is2data['spot_n']==1)].copy()\n",
    "pt1_274=pd.DataFrame({'longitude': is2_274['lon_1'], \n",
    "                  'latitude': is2_274['lat_1']})\n",
    "pt2_274=pd.DataFrame({'longitude': is2_274['lon_2'], \n",
    "                  'latitude': is2_274['lat_2']})"
   ]
  },
  {
   "cell_type": "markdown",
   "metadata": {},
   "source": [
    "# DEM sampling"
   ]
  },
  {
   "cell_type": "code",
   "execution_count": null,
   "metadata": {},
   "outputs": [],
   "source": [
    "# Sample 2m ArcticDEM at the points of each track - 1280 2l\n",
    "print('sample ArcticDEM at lon_1,lat_1 (' + str(len(pt1_1280)) + ' points)')\n",
    "pt1_1280=pygmt.grdtrack(points = pt1_1280, grid=dem_1280, newcolname='h_arcticdem', )\n",
    "print('sample ArcticDEM at lon_2,lat_2 (' + str(len(pt2_1280)) + ' points)')\n",
    "pt2_1280=pygmt.grdtrack(points = pt2_1280, grid=dem_1280, newcolname='h_arcticdem')\n",
    "print('done sampling ArcticDEM')"
   ]
  },
  {
   "cell_type": "code",
   "execution_count": null,
   "metadata": {},
   "outputs": [],
   "source": [
    "#add sampled points into dataframe\n",
    "is2_1280['h1_arcticdem']=pt1_1280['h_arcticdem'].values\n",
    "is2_1280['h2_arcticdem']=pt2_1280['h_arcticdem'].values\n",
    "is2_1280['dh_arcticdem']=pt2_1280['h_arcticdem'].values - pt1_1280['h_arcticdem'].values\n"
   ]
  },
  {
   "cell_type": "code",
   "execution_count": null,
   "metadata": {},
   "outputs": [],
   "source": [
    "# Sample 2m ArcticDEM at the points of each track - 274 1l\n",
    "print('sample ArcticDEM at lon_1,lat_1 (' + str(len(pt1_274)) + ' points)')\n",
    "pt1_274=pygmt.grdtrack(points = pt1_274, grid=dem_274, newcolname='h_arcticdem', )\n",
    "print('sample ArcticDEM at lon_2,lat_2 (' + str(len(pt2_274)) + ' points)')\n",
    "pt2_274=pygmt.grdtrack(points = pt2_274, grid=dem_274, newcolname='h_arcticdem')\n",
    "print('done sampling ArcticDEM')"
   ]
  },
  {
   "cell_type": "code",
   "execution_count": null,
   "metadata": {},
   "outputs": [],
   "source": [
    "#add sampled points to dataframe\n",
    "is2_274['h1_arcticdem']=pt1_274['h_arcticdem'].values\n",
    "is2_274['h2_arcticdem']=pt2_274['h_arcticdem'].values\n",
    "is2_274['dh_arcticdem']=pt2_274['h_arcticdem'].values - pt1_274['h_arcticdem'].values\n"
   ]
  },
  {
   "cell_type": "code",
   "execution_count": null,
   "metadata": {},
   "outputs": [],
   "source": [
    "#filter out large outliers\n",
    "is2_1280_f = is2_1280[(is2_1280['dh_arcticdem'] <2)].copy()\n",
    "#check how many points were removed\n",
    "print('unfiltered: ', len(is2_1280), 'points')\n",
    "print('filtered: ', len(is2_1280_f), 'points')"
   ]
  },
  {
   "cell_type": "code",
   "execution_count": null,
   "metadata": {},
   "outputs": [],
   "source": [
    "is2_274_f = is2_274[(is2_274['dh_arcticdem'] <2)].copy()\n",
    "print('unfiltered: ', len(is2_274), 'points')\n",
    "print('filtered: ', len(is2_274_f), 'points')"
   ]
  },
  {
   "cell_type": "markdown",
   "metadata": {},
   "source": [
    "# Correlation Analysis"
   ]
  },
  {
   "cell_type": "code",
   "execution_count": null,
   "metadata": {},
   "outputs": [],
   "source": [
    "#correlation between dem dh and IS2 dh: 2m 1280 sampling\n",
    "plt.plot(is2_1280_f['dh'],is2_1280_f['h2_arcticdem']-is2_1280_f['h1_arcticdem'],'.')\n",
    "plt.title('1280 gt2l: 2m DEM')\n",
    "plt.xlabel('is2 dh (m)')\n",
    "plt.ylabel('DEM dh (m)')\n",
    "#plt.ylim([-0.5, 0.5])\n",
    "plt.show()\n",
    "corr=is2_1280_f['dh'].corr(is2_1280_f['dh_arcticdem'])\n",
    "print('correlation between dh_icesat2 & dh_arcticdem is ' + str(corr)  + ' (r-squared = ' + str(corr**2) + ')')"
   ]
  },
  {
   "cell_type": "code",
   "execution_count": null,
   "metadata": {},
   "outputs": [],
   "source": [
    "#correlation between dem dh and IS2 dh: 2m 274 sampling\n",
    "plt.plot(is2_274['dh'],is2_274['h2_arcticdem']-is2_274['h1_arcticdem'],'.')\n",
    "plt.title('274 gt1l: 2m DEM')\n",
    "plt.xlabel('is2 dh (m)')\n",
    "plt.ylabel('DEM dh (m)')\n",
    "plt.show()\n",
    "corr=is2_274['dh'].corr(is2_274['dh_arcticdem'])\n",
    "print('correlation between dh_icesat2 & dh_arcticdem is ' + str(corr) + ' (r-squared = ' + str(corr**2) + ')')"
   ]
  },
  {
   "cell_type": "markdown",
   "metadata": {},
   "source": [
    "# Calculate DEM slope and adjusted IS2 estimates\n",
    "The following steps were not ultimately included in the paper, but may prove useful for further analysis"
   ]
  },
  {
   "cell_type": "code",
   "execution_count": null,
   "metadata": {
    "scrolled": true
   },
   "outputs": [],
   "source": [
    "#calculate distance and DEM slopes between points\n",
    "is2_1280_f['distance'] = np.sqrt(is2_1280_f['distance_x']**2 + is2_1280_f['distance_y']**2)\n",
    "is2_1280_f['dem_slope'] = (is2_1280_f['dh_arcticdem']/is2_1280_f['distance'])\n",
    "is2_274_f['distance'] = (np.sqrt(is2_274_f['distance_x']**2 + is2_274_f['distance_y']**2))\n",
    "is2_274_f['dem_slope'] = (is2_274_f['dh_arcticdem'])/is2_274_f['distance']"
   ]
  },
  {
   "cell_type": "code",
   "execution_count": null,
   "metadata": {},
   "outputs": [],
   "source": [
    "#adjust dh values using arctic dem difference\n",
    "is2_1280_f['dh_minus_dem'] = is2_1280_f['dh'] - is2_1280_f['dh_arcticdem']\n",
    "is2_274_f['dh_minus_dem'] = is2_274_f['dh'] - is2_274_f['dh_arcticdem']"
   ]
  },
  {
   "cell_type": "code",
   "execution_count": null,
   "metadata": {},
   "outputs": [],
   "source": [
    "#save output\n",
    "is2_1280_f.to_csv('repeat_dh_1280_gt2l_2m_dem_demo.csv')\n",
    "is2_274_f.to_csv('repeat_dh_274_gt1l_2m_dem_demo.csv')"
   ]
  },
  {
   "cell_type": "code",
   "execution_count": null,
   "metadata": {},
   "outputs": [],
   "source": []
  }
 ],
 "metadata": {
  "kernelspec": {
   "display_name": "Python 3",
   "language": "python",
   "name": "python3"
  },
  "language_info": {
   "codemirror_mode": {
    "name": "ipython",
    "version": 3
   },
   "file_extension": ".py",
   "mimetype": "text/x-python",
   "name": "python",
   "nbconvert_exporter": "python",
   "pygments_lexer": "ipython3",
   "version": "3.7.4"
  }
 },
 "nbformat": 4,
 "nbformat_minor": 4
}
